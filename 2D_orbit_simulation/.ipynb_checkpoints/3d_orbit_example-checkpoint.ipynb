{
 "cells": [
  {
   "cell_type": "code",
   "execution_count": 1,
   "id": "ffe00efa",
   "metadata": {},
   "outputs": [],
   "source": [
    "import matplotlib as plt\n",
    "import numpy as np"
   ]
  },
  {
   "cell_type": "code",
   "execution_count": 2,
   "id": "a7c133a3",
   "metadata": {},
   "outputs": [],
   "source": [
    "%reload_ext autoreload\n",
    "%autoreload 2\n",
    "from system import *\n",
    "\n",
    "# creating the star objects\n",
    "\n",
    "st1 = star([1.0,0,0],[0.0,2*np.pi,0])\n",
    "\n",
    "st2 = star([2.0,0.0,0],[0.0,2*np.pi,0])\n",
    "\n",
    "st3 = star([0.5,0.0,0],[0.0,2*np.pi,0])\n",
    "\n",
    "st4 = star([3.0,0.0,0],[0.0,2*np.pi,0])\n",
    "\n",
    "st_list = [st1,st2,st3,st4]"
   ]
  },
  {
   "cell_type": "code",
   "execution_count": 3,
   "id": "02baf7c4",
   "metadata": {},
   "outputs": [],
   "source": [
    "tf = 100\n",
    "dt = 0.001\n",
    "\n",
    "test_system = system3d(st_list)"
   ]
  },
  {
   "cell_type": "code",
   "execution_count": null,
   "id": "a7f43ffe",
   "metadata": {},
   "outputs": [],
   "source": []
  }
 ],
 "metadata": {
  "kernelspec": {
   "display_name": "Python 3",
   "language": "python",
   "name": "python3"
  },
  "language_info": {
   "codemirror_mode": {
    "name": "ipython",
    "version": 3
   },
   "file_extension": ".py",
   "mimetype": "text/x-python",
   "name": "python",
   "nbconvert_exporter": "python",
   "pygments_lexer": "ipython3",
   "version": "3.8.8"
  }
 },
 "nbformat": 4,
 "nbformat_minor": 5
}
