{
 "cells": [
  {
   "cell_type": "code",
   "execution_count": 2,
   "id": "773c9810",
   "metadata": {},
   "outputs": [],
   "source": [
    "import matplotlib as plt\n",
    "import numpy as np\n",
    "import pandas as pd"
   ]
  },
  {
   "cell_type": "code",
   "execution_count": 11,
   "id": "58c56e54",
   "metadata": {},
   "outputs": [],
   "source": [
    "# sagAdat = pd.read_csv(\"SagittariusA_data.xlsx\")"
   ]
  },
  {
   "cell_type": "markdown",
   "id": "7730f271",
   "metadata": {},
   "source": [
    "To create the star objects, the only thing we need to input are the initial positions and velocities respectively.\n",
    "\n",
    "The initial position comes from the 'q(AU)' column of our dataset which represents the pericenter distance, the point at which the star is closest to the central mass. This value is in AU, so to convert it into meters so we can use it for our simulaion: $1 AU = 1.496*10^{11} m$\n",
    "\n",
    "The initial position is velocity is defined by the column 'v(%c)'. This represents the velocity of the star when it is at the previously mentioned pericenter distance. Since the value is a percentage of the speed of light, we must convert it into m/s to be able to use it in our simulation: $1(percent)= 0.01*3*10^8 m/s$  "
   ]
  },
  {
   "cell_type": "code",
   "execution_count": 13,
   "id": "e608c67b",
   "metadata": {},
   "outputs": [],
   "source": [
    "%reload_ext autoreload\n",
    "%autoreload 2\n",
    "from system import *\n",
    "\n",
    "# creating the star objects using data from s1 on the dataset\n",
    "st1 = star([(2160.7*1.496e11),0.0],[0.0,(0.55*0.01*3e8)])\n",
    "st2 = star([(118.4*1.496e11),0.0],[0.0,(2.56*0.01*3e8)])\n",
    "st3 = star([(651.7*1.496e11),0.0],[0.0,(1.07*0.01*3e8)])\n",
    "st4 = star([(272.9*1.496e11),0.0],[0.0,(1.69*0.01*3e8)])\n",
    "st5 = star([(1242*1.496e11),0.0],[0.0,(0.69*0.01*3e8)])\n",
    "st6 = star([(56*1.496e11),0.0],[0.0,(3.83*0.01*3e8)])\n",
    "st7 = star([(16.4*1.496e11),0.0],[0.0,(7.03*0.01*3e8)])\n",
    "st8 = star([(12.6*1.496e11),0.0],[0.0,(8*0.01*3e8)])\n",
    "\n",
    "st_list = [st1,st2,st3,st4]"
   ]
  },
  {
   "cell_type": "code",
   "execution_count": 17,
   "id": "23c7ca76",
   "metadata": {},
   "outputs": [
    {
     "name": "stdout",
     "output_type": "stream",
     "text": [
      "Using matplotlib backend: Qt5Agg\n",
      "Populating the interactive namespace from numpy and matplotlib\n"
     ]
    },
    {
     "data": {
      "text/plain": [
       "[<matplotlib.lines.Line2D at 0x2528085f1f0>]"
      ]
     },
     "execution_count": 17,
     "metadata": {},
     "output_type": "execute_result"
    },
    {
     "data": {
      "image/png": "[encoded data removed]",
      "text/plain": [
       "<Figure size 432x288 with 1 Axes>"
      ]
     },
     "metadata": {
      "needs_background": "light"
     },
     "output_type": "display_data"
    }
   ],
   "source": [
    "%reload_ext autoreload\n",
    "%autoreload 2\n",
    "%pylab\n",
    "%matplotlib inline\n",
    "from IPython.display import display, clear_output\n",
    "\n",
    "# running the iteration function\n",
    "\n",
    "tf = 3.154e+7*1660\n",
    "dt = 3.154e+7/10000\n",
    "\n",
    "test_system = system2d(st_list,2e30*4e6)\n",
    "\n",
    "test_system.iterate(tf,dt)\n",
    "\n",
    "plt.plot(st1.r[:,0],st1.r[:,1])\n",
    "plt.plot(st2.r[:,0],st2.r[:,1])\n",
    "plt.plot(st3.r[:,0],st3.r[:,1])\n",
    "plt.plot(st4.r[:,0],st4.r[:,1])"
   ]
  },
  {
   "cell_type": "code",
   "execution_count": null,
   "id": "ec78f389",
   "metadata": {},
   "outputs": [],
   "source": []
  }
 ],
 "metadata": {
  "kernelspec": {
   "display_name": "Python 3 (ipykernel)",
   "language": "python",
   "name": "python3"
  },
  "language_info": {
   "codemirror_mode": {
    "name": "ipython",
    "version": 3
   },
   "file_extension": ".py",
   "mimetype": "text/x-python",
   "name": "python",
   "nbconvert_exporter": "python",
   "pygments_lexer": "ipython3",
   "version": "3.8.11"
  }
 },
 "nbformat": 4,
 "nbformat_minor": 5
}
