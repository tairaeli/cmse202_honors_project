{
 "cells": [
  {
   "cell_type": "code",
   "execution_count": 82,
   "id": "773c9810",
   "metadata": {},
   "outputs": [],
   "source": [
    "import matplotlib as plt\n",
    "import numpy as np\n",
    "import pandas as pd"
   ]
  },
  {
   "cell_type": "code",
   "execution_count": null,
   "id": "58c56e54",
   "metadata": {},
   "outputs": [],
   "source": [
    "sagAdat = pd.read_csv()"
   ]
  },
  {
   "cell_type": "code",
   "execution_count": 83,
   "id": "e608c67b",
   "metadata": {},
   "outputs": [],
   "source": [
    "%reload_ext autoreload\n",
    "%autoreload 2\n",
    "from system_v2 import *\n",
    "\n",
    "# creating the star objects\n",
    "\n",
    "st1 = star([(2160.7*1.496e11),0.0],[0.0,(0.0055*3e8)]) # Using data from s1 on the dataset\n",
    "\n",
    "st_list = [st1]"
   ]
  },
  {
   "cell_type": "code",
   "execution_count": 84,
   "id": "23c7ca76",
   "metadata": {},
   "outputs": [
    {
     "ename": "SyntaxError",
     "evalue": "invalid syntax (Temp/ipykernel_20768/3528761252.py, line 16)",
     "output_type": "error",
     "traceback": [
      "\u001b[1;36m  File \u001b[1;32m\"C:\\Users\\elias\\AppData\\Local\\Temp/ipykernel_20768/3528761252.py\"\u001b[1;36m, line \u001b[1;32m16\u001b[0m\n\u001b[1;33m    plt.plot(st1.r[:,0],st1.[:,1])\u001b[0m\n\u001b[1;37m                            ^\u001b[0m\n\u001b[1;31mSyntaxError\u001b[0m\u001b[1;31m:\u001b[0m invalid syntax\n"
     ]
    }
   ],
   "source": [
    "%reload_ext autoreload\n",
    "%autoreload 2\n",
    "%pylab\n",
    "%matplotlib inline\n",
    "from IPython.display import display, clear_output\n",
    "\n",
    "# running the iteration function\n",
    "\n",
    "tf = 3.154e+7*166\n",
    "dt = 3.154e+7/1000\n",
    "\n",
    "test_system = system2d(st_list,2e30*4e6)\n",
    "\n",
    "test_system.iterate(tf,dt)\n",
    "\n",
    "plt.plot(st1.r[:,0],st1.[:,1])"
   ]
  },
  {
   "cell_type": "code",
   "execution_count": null,
   "id": "ec78f389",
   "metadata": {},
   "outputs": [],
   "source": []
  }
 ],
 "metadata": {
  "kernelspec": {
   "display_name": "Python 3 (ipykernel)",
   "language": "python",
   "name": "python3"
  },
  "language_info": {
   "codemirror_mode": {
    "name": "ipython",
    "version": 3
   },
   "file_extension": ".py",
   "mimetype": "text/x-python",
   "name": "python",
   "nbconvert_exporter": "python",
   "pygments_lexer": "ipython3",
   "version": "3.8.11"
  }
 },
 "nbformat": 4,
 "nbformat_minor": 5
}
