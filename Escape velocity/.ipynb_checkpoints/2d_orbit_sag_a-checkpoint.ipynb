{
 "cells": [
  {
   "cell_type": "code",
   "execution_count": 73,
   "id": "773c9810",
   "metadata": {},
   "outputs": [],
   "source": [
    "import matplotlib as plt\n",
    "import numpy as np\n",
    "import pandas as pd"
   ]
  },
  {
   "cell_type": "code",
   "execution_count": 74,
   "id": "58c56e54",
   "metadata": {},
   "outputs": [],
   "source": [
    "sagAdat = pd.read_excel(\"SagittariusA_data.xlsx\")\n",
    "\n",
    "sagAdat[\"q(m)\"] = sagAdat[\"q (AU)\"]*1.496e11\n",
    "sagAdat[\"v(m/s)\"] = sagAdat[\"v (%c)\"]*0.01*3e8"
   ]
  },
  {
   "cell_type": "code",
   "execution_count": 75,
   "id": "69712f29",
   "metadata": {},
   "outputs": [
    {
     "data": {
      "text/html": [
       "<div>\n",
       "<style scoped>\n",
       "    .dataframe tbody tr th:only-of-type {\n",
       "        vertical-align: middle;\n",
       "    }\n",
       "\n",
       "    .dataframe tbody tr th {\n",
       "        vertical-align: top;\n",
       "    }\n",
       "\n",
       "    .dataframe thead th {\n",
       "        text-align: right;\n",
       "    }\n",
       "</style>\n",
       "<table border=\"1\" class=\"dataframe\">\n",
       "  <thead>\n",
       "    <tr style=\"text-align: right;\">\n",
       "      <th></th>\n",
       "      <th>id1</th>\n",
       "      <th>id2</th>\n",
       "      <th>a</th>\n",
       "      <th>Δa</th>\n",
       "      <th>e</th>\n",
       "      <th>Δe</th>\n",
       "      <th>i (°)</th>\n",
       "      <th>Δi</th>\n",
       "      <th>Ω (°)</th>\n",
       "      <th>ΔΩ</th>\n",
       "      <th>...</th>\n",
       "      <th>ΔTp</th>\n",
       "      <th>P (yr)</th>\n",
       "      <th>ΔP</th>\n",
       "      <th>Kmag</th>\n",
       "      <th>q (AU)</th>\n",
       "      <th>Δq</th>\n",
       "      <th>v (%c)</th>\n",
       "      <th>Δv</th>\n",
       "      <th>q(m)</th>\n",
       "      <th>v(m/s)</th>\n",
       "    </tr>\n",
       "  </thead>\n",
       "  <tbody>\n",
       "    <tr>\n",
       "      <th>0</th>\n",
       "      <td>S1</td>\n",
       "      <td>S0-1</td>\n",
       "      <td>0.5950</td>\n",
       "      <td>0.0240</td>\n",
       "      <td>0.5560</td>\n",
       "      <td>0.0180</td>\n",
       "      <td>119.14</td>\n",
       "      <td>0.21</td>\n",
       "      <td>342.04</td>\n",
       "      <td>0.32</td>\n",
       "      <td>...</td>\n",
       "      <td>0.150</td>\n",
       "      <td>166.0</td>\n",
       "      <td>5.8</td>\n",
       "      <td>14.70</td>\n",
       "      <td>2160.7</td>\n",
       "      <td>6.7</td>\n",
       "      <td>0.55</td>\n",
       "      <td>0.03</td>\n",
       "      <td>3.232407e+14</td>\n",
       "      <td>1650000.0</td>\n",
       "    </tr>\n",
       "    <tr>\n",
       "      <th>1</th>\n",
       "      <td>S2</td>\n",
       "      <td>S0-2</td>\n",
       "      <td>0.1251</td>\n",
       "      <td>0.0001</td>\n",
       "      <td>0.8843</td>\n",
       "      <td>0.0001</td>\n",
       "      <td>133.91</td>\n",
       "      <td>0.05</td>\n",
       "      <td>228.07</td>\n",
       "      <td>0.04</td>\n",
       "      <td>...</td>\n",
       "      <td>0.001</td>\n",
       "      <td>16.1</td>\n",
       "      <td>0.0</td>\n",
       "      <td>13.95</td>\n",
       "      <td>118.4</td>\n",
       "      <td>0.2</td>\n",
       "      <td>2.56</td>\n",
       "      <td>0.00</td>\n",
       "      <td>1.771264e+13</td>\n",
       "      <td>7680000.0</td>\n",
       "    </tr>\n",
       "    <tr>\n",
       "      <th>2</th>\n",
       "      <td>S8</td>\n",
       "      <td>S0-4</td>\n",
       "      <td>0.4047</td>\n",
       "      <td>0.0014</td>\n",
       "      <td>0.8031</td>\n",
       "      <td>0.0075</td>\n",
       "      <td>74.37</td>\n",
       "      <td>0.30</td>\n",
       "      <td>315.43</td>\n",
       "      <td>0.19</td>\n",
       "      <td>...</td>\n",
       "      <td>0.240</td>\n",
       "      <td>92.9</td>\n",
       "      <td>0.4</td>\n",
       "      <td>14.50</td>\n",
       "      <td>651.7</td>\n",
       "      <td>22.5</td>\n",
       "      <td>1.07</td>\n",
       "      <td>0.01</td>\n",
       "      <td>9.749432e+13</td>\n",
       "      <td>3210000.0</td>\n",
       "    </tr>\n",
       "    <tr>\n",
       "      <th>3</th>\n",
       "      <td>S12</td>\n",
       "      <td>S0-19</td>\n",
       "      <td>0.2987</td>\n",
       "      <td>0.0018</td>\n",
       "      <td>0.8883</td>\n",
       "      <td>0.0017</td>\n",
       "      <td>33.56</td>\n",
       "      <td>0.49</td>\n",
       "      <td>230.10</td>\n",
       "      <td>1.80</td>\n",
       "      <td>...</td>\n",
       "      <td>0.040</td>\n",
       "      <td>58.9</td>\n",
       "      <td>0.2</td>\n",
       "      <td>15.50</td>\n",
       "      <td>272.9</td>\n",
       "      <td>2.0</td>\n",
       "      <td>1.69</td>\n",
       "      <td>0.01</td>\n",
       "      <td>4.082584e+13</td>\n",
       "      <td>5070000.0</td>\n",
       "    </tr>\n",
       "    <tr>\n",
       "      <th>4</th>\n",
       "      <td>S13</td>\n",
       "      <td>S0-20</td>\n",
       "      <td>0.2641</td>\n",
       "      <td>0.0016</td>\n",
       "      <td>0.4250</td>\n",
       "      <td>0.0023</td>\n",
       "      <td>24.70</td>\n",
       "      <td>0.48</td>\n",
       "      <td>74.50</td>\n",
       "      <td>1.70</td>\n",
       "      <td>...</td>\n",
       "      <td>0.040</td>\n",
       "      <td>49.0</td>\n",
       "      <td>0.1</td>\n",
       "      <td>15.80</td>\n",
       "      <td>1242.0</td>\n",
       "      <td>2.4</td>\n",
       "      <td>0.69</td>\n",
       "      <td>0.01</td>\n",
       "      <td>1.858032e+14</td>\n",
       "      <td>2070000.0</td>\n",
       "    </tr>\n",
       "    <tr>\n",
       "      <th>5</th>\n",
       "      <td>S14</td>\n",
       "      <td>S0-16</td>\n",
       "      <td>0.2863</td>\n",
       "      <td>0.0036</td>\n",
       "      <td>0.9761</td>\n",
       "      <td>0.0037</td>\n",
       "      <td>100.59</td>\n",
       "      <td>0.87</td>\n",
       "      <td>226.38</td>\n",
       "      <td>0.64</td>\n",
       "      <td>...</td>\n",
       "      <td>0.060</td>\n",
       "      <td>55.3</td>\n",
       "      <td>0.5</td>\n",
       "      <td>15.70</td>\n",
       "      <td>56.0</td>\n",
       "      <td>3.8</td>\n",
       "      <td>3.83</td>\n",
       "      <td>0.06</td>\n",
       "      <td>8.377600e+12</td>\n",
       "      <td>11490000.0</td>\n",
       "    </tr>\n",
       "    <tr>\n",
       "      <th>6</th>\n",
       "      <td>S62</td>\n",
       "      <td>NaN</td>\n",
       "      <td>0.0905</td>\n",
       "      <td>0.0001</td>\n",
       "      <td>0.9760</td>\n",
       "      <td>0.0020</td>\n",
       "      <td>72.76</td>\n",
       "      <td>4.58</td>\n",
       "      <td>122.61</td>\n",
       "      <td>0.57</td>\n",
       "      <td>...</td>\n",
       "      <td>0.010</td>\n",
       "      <td>9.9</td>\n",
       "      <td>0.0</td>\n",
       "      <td>16.10</td>\n",
       "      <td>16.4</td>\n",
       "      <td>1.5</td>\n",
       "      <td>7.03</td>\n",
       "      <td>0.04</td>\n",
       "      <td>2.453440e+12</td>\n",
       "      <td>21090000.0</td>\n",
       "    </tr>\n",
       "    <tr>\n",
       "      <th>7</th>\n",
       "      <td>S4714</td>\n",
       "      <td>NaN</td>\n",
       "      <td>0.1020</td>\n",
       "      <td>0.0120</td>\n",
       "      <td>0.9850</td>\n",
       "      <td>0.0110</td>\n",
       "      <td>127.70</td>\n",
       "      <td>0.28</td>\n",
       "      <td>129.28</td>\n",
       "      <td>0.63</td>\n",
       "      <td>...</td>\n",
       "      <td>0.020</td>\n",
       "      <td>12.0</td>\n",
       "      <td>0.3</td>\n",
       "      <td>17.70</td>\n",
       "      <td>12.6</td>\n",
       "      <td>9.3</td>\n",
       "      <td>8.00</td>\n",
       "      <td>3.00</td>\n",
       "      <td>1.884960e+12</td>\n",
       "      <td>24000000.0</td>\n",
       "    </tr>\n",
       "  </tbody>\n",
       "</table>\n",
       "<p>8 rows × 23 columns</p>\n",
       "</div>"
      ],
      "text/plain": [
       "     id1    id2       a      Δa       e      Δe   i (°)    Δi   Ω (°)    ΔΩ  \\\n",
       "0     S1   S0-1  0.5950  0.0240  0.5560  0.0180  119.14  0.21  342.04  0.32   \n",
       "1     S2   S0-2  0.1251  0.0001  0.8843  0.0001  133.91  0.05  228.07  0.04   \n",
       "2     S8   S0-4  0.4047  0.0014  0.8031  0.0075   74.37  0.30  315.43  0.19   \n",
       "3    S12  S0-19  0.2987  0.0018  0.8883  0.0017   33.56  0.49  230.10  1.80   \n",
       "4    S13  S0-20  0.2641  0.0016  0.4250  0.0023   24.70  0.48   74.50  1.70   \n",
       "5    S14  S0-16  0.2863  0.0036  0.9761  0.0037  100.59  0.87  226.38  0.64   \n",
       "6    S62    NaN  0.0905  0.0001  0.9760  0.0020   72.76  4.58  122.61  0.57   \n",
       "7  S4714    NaN  0.1020  0.0120  0.9850  0.0110  127.70  0.28  129.28  0.63   \n",
       "\n",
       "   ...    ΔTp  P (yr)   ΔP   Kmag  q (AU)    Δq  v (%c)    Δv          q(m)  \\\n",
       "0  ...  0.150   166.0  5.8  14.70  2160.7   6.7    0.55  0.03  3.232407e+14   \n",
       "1  ...  0.001    16.1  0.0  13.95   118.4   0.2    2.56  0.00  1.771264e+13   \n",
       "2  ...  0.240    92.9  0.4  14.50   651.7  22.5    1.07  0.01  9.749432e+13   \n",
       "3  ...  0.040    58.9  0.2  15.50   272.9   2.0    1.69  0.01  4.082584e+13   \n",
       "4  ...  0.040    49.0  0.1  15.80  1242.0   2.4    0.69  0.01  1.858032e+14   \n",
       "5  ...  0.060    55.3  0.5  15.70    56.0   3.8    3.83  0.06  8.377600e+12   \n",
       "6  ...  0.010     9.9  0.0  16.10    16.4   1.5    7.03  0.04  2.453440e+12   \n",
       "7  ...  0.020    12.0  0.3  17.70    12.6   9.3    8.00  3.00  1.884960e+12   \n",
       "\n",
       "       v(m/s)  \n",
       "0   1650000.0  \n",
       "1   7680000.0  \n",
       "2   3210000.0  \n",
       "3   5070000.0  \n",
       "4   2070000.0  \n",
       "5  11490000.0  \n",
       "6  21090000.0  \n",
       "7  24000000.0  \n",
       "\n",
       "[8 rows x 23 columns]"
      ]
     },
     "execution_count": 75,
     "metadata": {},
     "output_type": "execute_result"
    }
   ],
   "source": [
    "sagAdat"
   ]
  },
  {
   "cell_type": "markdown",
   "id": "0f948c4c",
   "metadata": {},
   "source": [
    "To create the star objects, the only thing we need to input are the initial positions and velocities respectively.\n",
    "\n",
    "The initial position comes from the 'q(AU)' column of our dataset which represents the pericenter distance, the point at which the star is closest to the central mass. This value is in AU, so to convert it into meters so we can use it for our simulaion: $1 AU = 1.496*10^{11} m$\n",
    "\n",
    "The initial position is velocity is defined by the column 'v(%c)'. This represents the velocity of the star when it is at the previously mentioned pericenter distance. Since the value is a percentage of the speed of light, we must convert it into m/s to be able to use it in our simulation: $1(percent)= 0.01*3*10^8 m/s$  "
   ]
  },
  {
   "cell_type": "code",
   "execution_count": 76,
   "id": "e608c67b",
   "metadata": {},
   "outputs": [],
   "source": [
    "%reload_ext autoreload\n",
    "%autoreload 2\n",
    "from system import *\n",
    "\n",
    "\n",
    "# This is a simplified method of creating these star objects\n",
    "# st_list = []\n",
    "# for i in range(len(sagAdat[\"q(m)\"])):\n",
    "#     st_list.append(star([sagAdat[\"q(m)\"][i],0],[0,sagAdat[\"v(m/s)\"][i]]))\n",
    "    \n",
    "# creating the star objects using data from s1 on the dataset\n",
    "s1 = star([(2160.7*1.496e11),0.0],[0.0,(0.55*0.01*3e8)])\n",
    "s2 = star([(118.4*1.496e11),0.0],[0.0,(2.56*0.01*3e8)])\n",
    "s8 = star([(651.7*1.496e11),0.0],[0.0,(1.07*0.01*3e8)])\n",
    "s12 = star([(272.9*1.496e11),0.0],[0.0,(1.69*0.01*3e8)])\n",
    "s13 = star([(1242*1.496e11),0.0],[0.0,(0.69*0.01*3e8)])\n",
    "\n",
    "# I ran the numbers... and these stars are apperently moving faster than their escape velocities (???)\n",
    "s14 = star([(56*1.496e11),0.0],[0.0,(3.83*0.01*3e8)])\n",
    "s62 = star([(16.4*1.496e11),0.0],[0.0,(7.03*0.01*3e8)])\n",
    "s4714 = star([(12.6*1.496e11),0.0],[0.0,(8*0.01*3e8)])\n",
    "\n",
    "st_list = [s1,s2,s8,s12,s13,] # removing problem stars mentioned above"
   ]
  },
  {
   "cell_type": "code",
   "execution_count": 79,
   "id": "23c7ca76",
   "metadata": {},
   "outputs": [
    {
     "name": "stdout",
     "output_type": "stream",
     "text": [
      "Using matplotlib backend: agg\n",
      "Populating the interactive namespace from numpy and matplotlib\n"
     ]
    }
   ],
   "source": [
    "# Note, this may take a while to run\n",
    "\n",
    "%reload_ext autoreload\n",
    "%autoreload 2\n",
    "%pylab\n",
    "%matplotlib inline\n",
    "from IPython.display import display, clear_output\n",
    "\n",
    "# running the iteration function\n",
    "\n",
    "tf = 3.154e+7*166 # how long the simulation runs (in seconds)\n",
    "dt = 3.154e+7/10000 # how long between each timestep (also in seconds)\n",
    "\n",
    "test_system = system2d(st_list,2e30*4e6)\n",
    "\n",
    "test_system.iterate(tf,dt)"
   ]
  },
  {
   "cell_type": "code",
   "execution_count": 80,
   "id": "ec78f389",
   "metadata": {},
   "outputs": [
    {
     "data": {
      "image/png": "[encoded data removed]",
      "text/plain": [
       "<Figure size 432x288 with 1 Axes>"
      ]
     },
     "metadata": {
      "needs_background": "light"
     },
     "output_type": "display_data"
    }
   ],
   "source": [
    "# I wanted to run them for longer, but my computer's slow :(\n",
    "test_system = system2d(st_list,2e30*4e6)\n",
    "\n",
    "for i in range(len(st_list)):\n",
    "    plt.plot(st_list[i].r[:,0],st_list[i].r[:,1])"
   ]
  },
  {
   "cell_type": "code",
   "execution_count": 93,
   "id": "3c45cec3",
   "metadata": {},
   "outputs": [
    {
     "name": "stdout",
     "output_type": "stream",
     "text": [
      "Using matplotlib backend: agg\n",
      "Populating the interactive namespace from numpy and matplotlib\n"
     ]
    },
    {
     "data": {
      "image/png": "[encoded data removed]",
      "text/plain": [
       "<Figure size 648x432 with 1 Axes>"
      ]
     },
     "metadata": {
      "needs_background": "light"
     },
     "output_type": "display_data"
    }
   ],
   "source": [
    "%reload_ext autoreload\n",
    "%autoreload 2\n",
    "%pylab\n",
    "%matplotlib inline\n",
    "star_list=[s1,s2,s8,s12,s13,s14,s62,s4714]\n",
    "plt.figure(figsize=(9,6))\n",
    "test_system.Escape_velocity(star_list)\n",
    "labels= [\"s1\",\"s2\",\"s8\",\"s12\",\"s13\",\"s14\",\"s16\",\"s4714\"]\n",
    "test_system.ScatterStars(star_list,labels)"
   ]
  },
  {
   "cell_type": "markdown",
   "id": "356fc6b8",
   "metadata": {},
   "source": [
    "### Escape velocites of the stars as a function of their distance."
   ]
  },
  {
   "cell_type": "code",
   "execution_count": 83,
   "id": "13a9289f",
   "metadata": {},
   "outputs": [
    {
     "ename": "AttributeError",
     "evalue": "'star' object has no attribute 'Escape_velocity'",
     "output_type": "error",
     "traceback": [
      "\u001b[0;31m---------------------------------------------------------------------------\u001b[0m",
      "\u001b[0;31mAttributeError\u001b[0m                            Traceback (most recent call last)",
      "\u001b[0;32m<ipython-input-83-675f007cfddc>\u001b[0m in \u001b[0;36m<module>\u001b[0;34m\u001b[0m\n\u001b[1;32m      3\u001b[0m \u001b[0;32mfor\u001b[0m \u001b[0mi\u001b[0m \u001b[0;32min\u001b[0m \u001b[0mrange\u001b[0m\u001b[0;34m(\u001b[0m\u001b[0;34m(\u001b[0m\u001b[0mlen\u001b[0m\u001b[0;34m(\u001b[0m\u001b[0mst_list\u001b[0m\u001b[0;34m)\u001b[0m\u001b[0;34m)\u001b[0m\u001b[0;34m)\u001b[0m\u001b[0;34m:\u001b[0m\u001b[0;34m\u001b[0m\u001b[0;34m\u001b[0m\u001b[0m\n\u001b[1;32m      4\u001b[0m     \u001b[0mplt\u001b[0m\u001b[0;34m.\u001b[0m\u001b[0msubplot\u001b[0m\u001b[0;34m(\u001b[0m\u001b[0;36m2\u001b[0m\u001b[0;34m,\u001b[0m\u001b[0;36m3\u001b[0m\u001b[0;34m,\u001b[0m\u001b[0mi\u001b[0m\u001b[0;34m+\u001b[0m\u001b[0;36m1\u001b[0m\u001b[0;34m)\u001b[0m\u001b[0;34m\u001b[0m\u001b[0;34m\u001b[0m\u001b[0m\n\u001b[0;32m----> 5\u001b[0;31m     \u001b[0mst_list\u001b[0m\u001b[0;34m[\u001b[0m\u001b[0mi\u001b[0m\u001b[0;34m]\u001b[0m\u001b[0;34m.\u001b[0m\u001b[0mEscape_velocity\u001b[0m\u001b[0;34m(\u001b[0m\u001b[0mtest_system\u001b[0m\u001b[0;34m)\u001b[0m\u001b[0;34m\u001b[0m\u001b[0;34m\u001b[0m\u001b[0m\n\u001b[0m\u001b[1;32m      6\u001b[0m     \u001b[0mst_list\u001b[0m\u001b[0;34m[\u001b[0m\u001b[0mi\u001b[0m\u001b[0;34m]\u001b[0m\u001b[0;34m.\u001b[0m\u001b[0mplotEV\u001b[0m\u001b[0;34m(\u001b[0m\u001b[0;34m\" |mass = \"\u001b[0m\u001b[0;34m+\u001b[0m\u001b[0mstr\u001b[0m\u001b[0;34m(\u001b[0m\u001b[0mtest_system\u001b[0m\u001b[0;34m.\u001b[0m\u001b[0mM\u001b[0m\u001b[0;34m)\u001b[0m\u001b[0;34m,\u001b[0m\u001b[0mlabel\u001b[0m\u001b[0;34m=\u001b[0m\u001b[0mlabels\u001b[0m\u001b[0;34m[\u001b[0m\u001b[0mi\u001b[0m\u001b[0;34m]\u001b[0m\u001b[0;34m)\u001b[0m\u001b[0;34m\u001b[0m\u001b[0;34m\u001b[0m\u001b[0m\n\u001b[1;32m      7\u001b[0m \u001b[0mplt\u001b[0m\u001b[0;34m.\u001b[0m\u001b[0mtight_layout\u001b[0m\u001b[0;34m(\u001b[0m\u001b[0;34m)\u001b[0m\u001b[0;34m\u001b[0m\u001b[0;34m\u001b[0m\u001b[0m\n",
      "\u001b[0;31mAttributeError\u001b[0m: 'star' object has no attribute 'Escape_velocity'"
     ]
    },
    {
     "data": {
      "image/png": "[encoded data removed]",
      "text/plain": [
       "<Figure size 1152x648 with 1 Axes>"
      ]
     },
     "metadata": {
      "needs_background": "light"
     },
     "output_type": "display_data"
    }
   ],
   "source": [
    "labels= [\"s1\",\"s2\",\"s8\",\"s12\",\"s13\"]\n",
    "plt.figure(figsize=(16,9))\n",
    "for i in range((len(st_list))):\n",
    "    plt.subplot(2,3,i+1)\n",
    "    st_list[i].Escape_velocity(test_system)\n",
    "    st_list[i].plotEV(\" |mass = \"+str(test_system.M),label=labels[i])\n",
    "plt.tight_layout()"
   ]
  },
  {
   "cell_type": "markdown",
   "id": "adfd0cbb",
   "metadata": {},
   "source": [
    "### Escape velocity of s1 by changing system mass"
   ]
  },
  {
   "cell_type": "code",
   "execution_count": null,
   "id": "bf838195",
   "metadata": {},
   "outputs": [],
   "source": [
    "Masses=[2e30*4e6,1e30*4e6]#,sagitarius A,1/2 sag A\n",
    "labell=[\"Sag A\",\"1/2Sag A\"]\n",
    "plt.figure(figsize=(16,12))\n",
    "\n",
    "plt.subplot(1,3,1)\n",
    "for j in range(len(Masses)):\n",
    "    test_system = system2d(st_list,Masses[j])\n",
    "    s1.Escape_velocity(test_system)\n",
    "    s1.plotEV(\" |mass = \"+str(test_system.M),label=labell[j])\n",
    "    \n",
    "plt.subplot(1,3,2)\n",
    "\n",
    "test_system = system2d(st_list,2e30)\n",
    "s1.Escape_velocity(test_system)\n",
    "s1.plotEV(\" |mass = \"+str(test_system.M),label=\"Sun\")\n",
    "plt.subplot(1,3,3)\n",
    "test_system = system2d(st_list,1.90e27)\n",
    "s1.Escape_velocity(test_system)\n",
    "s1.plotEV(\" |mass = \"+str(test_system.M),label=\"Juipiter\")    \n",
    "plt.tight_layout()"
   ]
  },
  {
   "cell_type": "code",
   "execution_count": null,
   "id": "8a66037f",
   "metadata": {},
   "outputs": [],
   "source": []
  }
 ],
 "metadata": {
  "kernelspec": {
   "display_name": "Python 3",
   "language": "python",
   "name": "python3"
  },
  "language_info": {
   "codemirror_mode": {
    "name": "ipython",
    "version": 3
   },
   "file_extension": ".py",
   "mimetype": "text/x-python",
   "name": "python",
   "nbconvert_exporter": "python",
   "pygments_lexer": "ipython3",
   "version": "3.8.8"
  }
 },
 "nbformat": 4,
 "nbformat_minor": 5
}
