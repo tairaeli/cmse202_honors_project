{
 "cells": [
  {
   "cell_type": "markdown",
   "id": "2097a02f",
   "metadata": {},
   "source": [
    "# Simulating Steller Orbits Around Sagittarius A\n",
    "\n",
    "Arian Andalib, Nate Gu, Elias Taira"
   ]
  },
  {
   "cell_type": "markdown",
   "id": "2bd5c711",
   "metadata": {},
   "source": [
    "## Introduction"
   ]
  },
  {
   "cell_type": "markdown",
   "id": "8ed1a66d",
   "metadata": {},
   "source": [
    "While Sagittarius A (Sag A for short) has been observed many times and have been confirmed to be the center of our galaxy since as early as the 1980's, it wasn't until the 2000s that this \"star\" was confirmed to be a black hole. Even more recently, we have been able to observe the orbits of stars very close to the black hole. Then, using Kepler's Laws to map out the orbital path of the stars, obtain an accurate reading of what the mass of this black hole is.\n",
    "\n",
    "![](./Galactic_centre_orbits.svg.png)\n",
    "\n",
    "After a careful analysis of the astronomical data, it was found that the bleck hole weighs around $3.6^{+0.2}_{-0.4}*10^6 M_\\odot$ \n",
    "\n",
    "The actual data for these orbits can be found below from the Wikepidia page on Sag A"
   ]
  },
  {
   "cell_type": "code",
   "execution_count": 11,
   "id": "84630469",
   "metadata": {},
   "outputs": [
    {
     "data": {
      "text/html": [
       "<div>\n",
       "<style scoped>\n",
       "    .dataframe tbody tr th:only-of-type {\n",
       "        vertical-align: middle;\n",
       "    }\n",
       "\n",
       "    .dataframe tbody tr th {\n",
       "        vertical-align: top;\n",
       "    }\n",
       "\n",
       "    .dataframe thead th {\n",
       "        text-align: right;\n",
       "    }\n",
       "</style>\n",
       "<table border=\"1\" class=\"dataframe\">\n",
       "  <thead>\n",
       "    <tr style=\"text-align: right;\">\n",
       "      <th></th>\n",
       "      <th>id1</th>\n",
       "      <th>id2</th>\n",
       "      <th>a</th>\n",
       "      <th>Δa</th>\n",
       "      <th>e</th>\n",
       "      <th>Δe</th>\n",
       "      <th>i (°)</th>\n",
       "      <th>Δi</th>\n",
       "      <th>Ω (°)</th>\n",
       "      <th>ΔΩ</th>\n",
       "      <th>...</th>\n",
       "      <th>Δω</th>\n",
       "      <th>Tp (yr)</th>\n",
       "      <th>ΔTp</th>\n",
       "      <th>P (yr)</th>\n",
       "      <th>ΔP</th>\n",
       "      <th>Kmag</th>\n",
       "      <th>q (AU)</th>\n",
       "      <th>Δq</th>\n",
       "      <th>v (%c)</th>\n",
       "      <th>Δv</th>\n",
       "    </tr>\n",
       "  </thead>\n",
       "  <tbody>\n",
       "    <tr>\n",
       "      <th>0</th>\n",
       "      <td>S1</td>\n",
       "      <td>S0-1</td>\n",
       "      <td>0.5950</td>\n",
       "      <td>0.0240</td>\n",
       "      <td>0.5560</td>\n",
       "      <td>0.0180</td>\n",
       "      <td>119.14</td>\n",
       "      <td>0.21</td>\n",
       "      <td>342.04</td>\n",
       "      <td>0.32</td>\n",
       "      <td>...</td>\n",
       "      <td>1.40</td>\n",
       "      <td>2001.800</td>\n",
       "      <td>0.150</td>\n",
       "      <td>166.0</td>\n",
       "      <td>5.8</td>\n",
       "      <td>14.70</td>\n",
       "      <td>2160.7</td>\n",
       "      <td>6.7</td>\n",
       "      <td>0.55</td>\n",
       "      <td>0.03</td>\n",
       "    </tr>\n",
       "    <tr>\n",
       "      <th>1</th>\n",
       "      <td>S2</td>\n",
       "      <td>S0-2</td>\n",
       "      <td>0.1251</td>\n",
       "      <td>0.0001</td>\n",
       "      <td>0.8843</td>\n",
       "      <td>0.0001</td>\n",
       "      <td>133.91</td>\n",
       "      <td>0.05</td>\n",
       "      <td>228.07</td>\n",
       "      <td>0.04</td>\n",
       "      <td>...</td>\n",
       "      <td>0.04</td>\n",
       "      <td>2018.379</td>\n",
       "      <td>0.001</td>\n",
       "      <td>16.1</td>\n",
       "      <td>0.0</td>\n",
       "      <td>13.95</td>\n",
       "      <td>118.4</td>\n",
       "      <td>0.2</td>\n",
       "      <td>2.56</td>\n",
       "      <td>0.00</td>\n",
       "    </tr>\n",
       "    <tr>\n",
       "      <th>2</th>\n",
       "      <td>S8</td>\n",
       "      <td>S0-4</td>\n",
       "      <td>0.4047</td>\n",
       "      <td>0.0014</td>\n",
       "      <td>0.8031</td>\n",
       "      <td>0.0075</td>\n",
       "      <td>74.37</td>\n",
       "      <td>0.30</td>\n",
       "      <td>315.43</td>\n",
       "      <td>0.19</td>\n",
       "      <td>...</td>\n",
       "      <td>0.41</td>\n",
       "      <td>1983.640</td>\n",
       "      <td>0.240</td>\n",
       "      <td>92.9</td>\n",
       "      <td>0.4</td>\n",
       "      <td>14.50</td>\n",
       "      <td>651.7</td>\n",
       "      <td>22.5</td>\n",
       "      <td>1.07</td>\n",
       "      <td>0.01</td>\n",
       "    </tr>\n",
       "    <tr>\n",
       "      <th>3</th>\n",
       "      <td>S12</td>\n",
       "      <td>S0-19</td>\n",
       "      <td>0.2987</td>\n",
       "      <td>0.0018</td>\n",
       "      <td>0.8883</td>\n",
       "      <td>0.0017</td>\n",
       "      <td>33.56</td>\n",
       "      <td>0.49</td>\n",
       "      <td>230.10</td>\n",
       "      <td>1.80</td>\n",
       "      <td>...</td>\n",
       "      <td>1.50</td>\n",
       "      <td>1995.590</td>\n",
       "      <td>0.040</td>\n",
       "      <td>58.9</td>\n",
       "      <td>0.2</td>\n",
       "      <td>15.50</td>\n",
       "      <td>272.9</td>\n",
       "      <td>2.0</td>\n",
       "      <td>1.69</td>\n",
       "      <td>0.01</td>\n",
       "    </tr>\n",
       "    <tr>\n",
       "      <th>4</th>\n",
       "      <td>S13</td>\n",
       "      <td>S0-20</td>\n",
       "      <td>0.2641</td>\n",
       "      <td>0.0016</td>\n",
       "      <td>0.4250</td>\n",
       "      <td>0.0023</td>\n",
       "      <td>24.70</td>\n",
       "      <td>0.48</td>\n",
       "      <td>74.50</td>\n",
       "      <td>1.70</td>\n",
       "      <td>...</td>\n",
       "      <td>2.40</td>\n",
       "      <td>2004.860</td>\n",
       "      <td>0.040</td>\n",
       "      <td>49.0</td>\n",
       "      <td>0.1</td>\n",
       "      <td>15.80</td>\n",
       "      <td>1242.0</td>\n",
       "      <td>2.4</td>\n",
       "      <td>0.69</td>\n",
       "      <td>0.01</td>\n",
       "    </tr>\n",
       "    <tr>\n",
       "      <th>5</th>\n",
       "      <td>S14</td>\n",
       "      <td>S0-16</td>\n",
       "      <td>0.2863</td>\n",
       "      <td>0.0036</td>\n",
       "      <td>0.9761</td>\n",
       "      <td>0.0037</td>\n",
       "      <td>100.59</td>\n",
       "      <td>0.87</td>\n",
       "      <td>226.38</td>\n",
       "      <td>0.64</td>\n",
       "      <td>...</td>\n",
       "      <td>0.87</td>\n",
       "      <td>2000.120</td>\n",
       "      <td>0.060</td>\n",
       "      <td>55.3</td>\n",
       "      <td>0.5</td>\n",
       "      <td>15.70</td>\n",
       "      <td>56.0</td>\n",
       "      <td>3.8</td>\n",
       "      <td>3.83</td>\n",
       "      <td>0.06</td>\n",
       "    </tr>\n",
       "    <tr>\n",
       "      <th>6</th>\n",
       "      <td>S62</td>\n",
       "      <td>NaN</td>\n",
       "      <td>0.0905</td>\n",
       "      <td>0.0001</td>\n",
       "      <td>0.9760</td>\n",
       "      <td>0.0020</td>\n",
       "      <td>72.76</td>\n",
       "      <td>4.58</td>\n",
       "      <td>122.61</td>\n",
       "      <td>0.57</td>\n",
       "      <td>...</td>\n",
       "      <td>0.40</td>\n",
       "      <td>2003.330</td>\n",
       "      <td>0.010</td>\n",
       "      <td>9.9</td>\n",
       "      <td>0.0</td>\n",
       "      <td>16.10</td>\n",
       "      <td>16.4</td>\n",
       "      <td>1.5</td>\n",
       "      <td>7.03</td>\n",
       "      <td>0.04</td>\n",
       "    </tr>\n",
       "    <tr>\n",
       "      <th>7</th>\n",
       "      <td>S4714</td>\n",
       "      <td>NaN</td>\n",
       "      <td>0.1020</td>\n",
       "      <td>0.0120</td>\n",
       "      <td>0.9850</td>\n",
       "      <td>0.0110</td>\n",
       "      <td>127.70</td>\n",
       "      <td>0.28</td>\n",
       "      <td>129.28</td>\n",
       "      <td>0.63</td>\n",
       "      <td>...</td>\n",
       "      <td>0.08</td>\n",
       "      <td>2017.290</td>\n",
       "      <td>0.020</td>\n",
       "      <td>12.0</td>\n",
       "      <td>0.3</td>\n",
       "      <td>17.70</td>\n",
       "      <td>12.6</td>\n",
       "      <td>9.3</td>\n",
       "      <td>8.00</td>\n",
       "      <td>3.00</td>\n",
       "    </tr>\n",
       "  </tbody>\n",
       "</table>\n",
       "<p>8 rows × 21 columns</p>\n",
       "</div>"
      ],
      "text/plain": [
       "     id1    id2       a      Δa       e      Δe   i (°)    Δi   Ω (°)    ΔΩ  \\\n",
       "0     S1   S0-1  0.5950  0.0240  0.5560  0.0180  119.14  0.21  342.04  0.32   \n",
       "1     S2   S0-2  0.1251  0.0001  0.8843  0.0001  133.91  0.05  228.07  0.04   \n",
       "2     S8   S0-4  0.4047  0.0014  0.8031  0.0075   74.37  0.30  315.43  0.19   \n",
       "3    S12  S0-19  0.2987  0.0018  0.8883  0.0017   33.56  0.49  230.10  1.80   \n",
       "4    S13  S0-20  0.2641  0.0016  0.4250  0.0023   24.70  0.48   74.50  1.70   \n",
       "5    S14  S0-16  0.2863  0.0036  0.9761  0.0037  100.59  0.87  226.38  0.64   \n",
       "6    S62    NaN  0.0905  0.0001  0.9760  0.0020   72.76  4.58  122.61  0.57   \n",
       "7  S4714    NaN  0.1020  0.0120  0.9850  0.0110  127.70  0.28  129.28  0.63   \n",
       "\n",
       "   ...    Δω   Tp (yr)    ΔTp  P (yr)   ΔP   Kmag  q (AU)    Δq  v (%c)    Δv  \n",
       "0  ...  1.40  2001.800  0.150   166.0  5.8  14.70  2160.7   6.7    0.55  0.03  \n",
       "1  ...  0.04  2018.379  0.001    16.1  0.0  13.95   118.4   0.2    2.56  0.00  \n",
       "2  ...  0.41  1983.640  0.240    92.9  0.4  14.50   651.7  22.5    1.07  0.01  \n",
       "3  ...  1.50  1995.590  0.040    58.9  0.2  15.50   272.9   2.0    1.69  0.01  \n",
       "4  ...  2.40  2004.860  0.040    49.0  0.1  15.80  1242.0   2.4    0.69  0.01  \n",
       "5  ...  0.87  2000.120  0.060    55.3  0.5  15.70    56.0   3.8    3.83  0.06  \n",
       "6  ...  0.40  2003.330  0.010     9.9  0.0  16.10    16.4   1.5    7.03  0.04  \n",
       "7  ...  0.08  2017.290  0.020    12.0  0.3  17.70    12.6   9.3    8.00  3.00  \n",
       "\n",
       "[8 rows x 21 columns]"
      ]
     },
     "execution_count": 11,
     "metadata": {},
     "output_type": "execute_result"
    }
   ],
   "source": [
    "import pandas as pd\n",
    "sagAdat = pd.read_excel(\"SagittariusA_data.xlsx\")\n",
    "sagAdat"
   ]
  },
  {
   "cell_type": "markdown",
   "id": "25314ce5",
   "metadata": {},
   "source": [
    "In this experiment, we seek to understand nderlying physics behind this orbital motion. Thus we decided to try to reconstruct this system with these same orbital patterns using nothing but the gravitational forces between the orbiting stars and central black hole, as well as the initial positions and velocities of the stars as well.\n",
    "\n",
    "To do this, we will employ the use of the **Velocity Verlet method**, an iterative method designed to solve various kinds of differential equations. In the scope of this project we will use it to solve for the positions and velocities of the nearby stars orbiting Sag A given their initial position, velocity and the gravitational force exerted on them by the central black hole all as a function of time.\n",
    "\n",
    "The differential equation we will be solving is denoted by: $$a(r) = \\frac{GM_sr}{\\textbf{r}^3} $$ where $a(r)$ represents the acceleration of the star (derived from the gravitational force), $G$ represents the gravitational constant ($6.67*10^{-11} m^3 kg^{-1} s^{-2}$), $M_s$ represents the mass of Sag A, **r** represents the distance to Sag A in meters and, r represents the position vector of the star.\n",
    "\n",
    "To obtain these initial conditions, we decided to use the **q (AU)** column for position and the  **v(%c)** column for velocity. **q (AU)** represents the distance of the star from the black hole at its **perhilion**, the closest point to the black hole in the star's orbital path. This distance is measured in **AU** or **Astronomical Units**, which represent the distance from Earth to the Sun (i.e., the distance from Earth to the Sun is 1 AU or ~1.5e11 m). However, for this project we will be working in SI units, so this will be converted into meters. **v(%c)** represents the speed of the star at this perhilion location. This is units of **%c** where 'c' represents the speed of light at $3*10^8$ m/s. We will also be using this in SI units as well (m/s)."
   ]
  },
  {
   "cell_type": "markdown",
   "id": "95ef03ac",
   "metadata": {},
   "source": [
    "## Methodology"
   ]
  },
  {
   "cell_type": "markdown",
   "id": "09affce8",
   "metadata": {},
   "source": [
    "### 2D Orbit Simulation"
   ]
  },
  {
   "cell_type": "markdown",
   "id": "375cf3c3",
   "metadata": {},
   "source": [
    "In the process of making an accurate model for the Sag A system, we decided that it would be best to first start out with a simpler model of our system in a lower dimension to ensure that the basics of our model are functioning as they should before we add any more complexity to our model. Therefore, we will first try to build our model in 2 dimensions.\n",
    "\n",
    "The majority of our code will be found in the form of classes and objects located within the file 'system.py'. There we create objects for each star in the system ('star' class), as well as an object for simulating each star object as they move through their respecive orbits ('system2d' class).\n",
    "\n",
    "To validate that our Velocity Verlet method is functioning as it should, we first made a simple simulation of a black hole and star system with similar masses to that of our own Sun and Earth respectively.\n",
    "\n",
    "To do this, we must first import the libraries we will be using: Numpy and Matplotlib. While we will import more libraries in order to run some animations and make 3-D plots, those libraries will be imported in 'system.py'. Only having numpy in the notebook will be sufficient enough to initialize our data. Additionally we will also import our classes from 'system.py'"
   ]
  },
  {
   "cell_type": "code",
   "execution_count": 2,
   "id": "6c180ec3",
   "metadata": {},
   "outputs": [],
   "source": [
    "import numpy as np\n",
    "import matplotlib.pyplot as plt\n",
    "from system import star, system2d"
   ]
  },
  {
   "cell_type": "markdown",
   "id": "d7e9c8bf",
   "metadata": {},
   "source": [
    "Now we are able to run our basic simulation."
   ]
  },
  {
   "cell_type": "code",
   "execution_count": 4,
   "id": "5d4ed58a",
   "metadata": {},
   "outputs": [],
   "source": [
    "black_hole_mass = 2e30 # in kilograms (kg)\n",
    "\n",
    "r0 = [1.5e11,0] # in units of meters(m), represents the initial position in [x,y]\n",
    "v0 = [0,2.98e4] # in units of meters per second (m/s), represents the initial velocity in [v_x,v_y]\n",
    "\n",
    "test_star = star(r0,v0) # creates a star object with an initial velocity and position\n",
    "\n",
    "test_list = [test_star] # system2d class takes in a list of star objects as an argument\n",
    "\n",
    "test_system = system2d(test_list,black_hole_mass) # creates a 2d system object using the \n",
    "                                                  # star list and the mass of the central black hole\n",
    "tf = 365*24*3600 # iterating for 1 year in units of seconds (s)\n",
    "dt =  tf/1000 # Amount of time between iterations, set such that there ar 1000 iterations\n",
    "test_system.iterate(tf,dt) # running the iterate method, positions and velocities are sotred within each star object\n"
   ]
  },
  {
   "cell_type": "markdown",
   "id": "bc56ba2b",
   "metadata": {},
   "source": [
    "We then make a plot of the position of the star over this timespan to evaluate the accuracy of our model"
   ]
  },
  {
   "cell_type": "code",
   "execution_count": 9,
   "id": "3a5d5640",
   "metadata": {},
   "outputs": [
    {
     "data": {
      "text/plain": [
       "<matplotlib.legend.Legend at 0x1f1e4915df0>"
      ]
     },
     "execution_count": 9,
     "metadata": {},
     "output_type": "execute_result"
    },
    {
     "data": {
      "image/png": "[encoded data removed]",
      "text/plain": [
       "<Figure size 576x576 with 1 Axes>"
      ]
     },
     "metadata": {
      "needs_background": "light"
     },
     "output_type": "display_data"
    }
   ],
   "source": [
    "# making a plot of our simple orbit\n",
    "\n",
    "plt.figure(figsize = (8,8))\n",
    "plt.plot(test_star.r[:,0],test_star.r[:,1], label = \"Star Orbit\")\n",
    "plt.scatter(0,0, color = \"black\", marker = \"o\", label = \"Black Hole\")\n",
    "plt.xlabel(\"X Position (m)\")\n",
    "plt.ylabel(\"Y Position (m)\")\n",
    "plt.title(\"Simple Stellar Orbit in 2D\")\n",
    "plt.legend()"
   ]
  },
  {
   "cell_type": "markdown",
   "id": "352beb53",
   "metadata": {},
   "source": [
    "To make these orbits easier to visualize, we also added an animation method to our system classes to view the star as it is orbiting."
   ]
  },
  {
   "cell_type": "code",
   "execution_count": null,
   "id": "604c30da",
   "metadata": {},
   "outputs": [],
   "source": []
  },
  {
   "cell_type": "markdown",
   "id": "03abfd0e",
   "metadata": {},
   "source": [
    "Now that our test case has proven valid we can now move on to using data from the Sag A system to create our model in 2 dimensions.\n",
    "\n",
    "We begin by first converting the initial conditions we will be using into SI units."
   ]
  },
  {
   "cell_type": "code",
   "execution_count": 12,
   "id": "d74e6e0d",
   "metadata": {},
   "outputs": [],
   "source": [
    "sagAdat[\"q(m)\"] = sagAdat[\"q (AU)\"]*1.496e11 # converting our perhilion column to meters\n",
    "sagAdat[\"v(m/s)\"] = sagAdat[\"v (%c)\"]*0.01*3e8 # converting our perhilion speed column to meters per second"
   ]
  },
  {
   "cell_type": "markdown",
   "id": "9887e74b",
   "metadata": {},
   "source": [
    "We will now be able to create our star objects and put them into a list"
   ]
  },
  {
   "cell_type": "code",
   "execution_count": 14,
   "id": "6d0ba228",
   "metadata": {},
   "outputs": [],
   "source": [
    "st_list = [] # empty list of stars with set initial positions and velocities\n",
    "for i in range(len(sagAdat[\"q(m)\"])-3):\n",
    "    st_list.append(star([sagAdat[\"q(m)\"][i],0],[0,sagAdat[\"v(m/s)\"][i]])) # creating star objects \n",
    "                                                                       # and adding them to the list"
   ]
  },
  {
   "cell_type": "markdown",
   "id": "3ed9bc59",
   "metadata": {},
   "source": [
    "Now, creating our system:"
   ]
  },
  {
   "cell_type": "code",
   "execution_count": null,
   "id": "1c8b6fa7",
   "metadata": {},
   "outputs": [],
   "source": [
    "M = 2e30*4e6 # mass of Sag A\n",
    "\n",
    "SagASystem2d = system2d(st_list,)"
   ]
  },
  {
   "cell_type": "markdown",
   "id": "69b2ec1a",
   "metadata": {},
   "source": [
    "### 3D Orbit Simulation"
   ]
  },
  {
   "cell_type": "code",
   "execution_count": null,
   "id": "c45087e4",
   "metadata": {},
   "outputs": [],
   "source": []
  },
  {
   "cell_type": "markdown",
   "id": "0817c7ca",
   "metadata": {},
   "source": [
    "## Conclusion"
   ]
  },
  {
   "cell_type": "code",
   "execution_count": null,
   "id": "f82e4330",
   "metadata": {},
   "outputs": [],
   "source": []
  }
 ],
 "metadata": {
  "kernelspec": {
   "display_name": "Python 3 (ipykernel)",
   "language": "python",
   "name": "python3"
  },
  "language_info": {
   "codemirror_mode": {
    "name": "ipython",
    "version": 3
   },
   "file_extension": ".py",
   "mimetype": "text/x-python",
   "name": "python",
   "nbconvert_exporter": "python",
   "pygments_lexer": "ipython3",
   "version": "3.8.11"
  }
 },
 "nbformat": 4,
 "nbformat_minor": 5
}
