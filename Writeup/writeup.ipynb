{
 "cells": [
  {
   "cell_type": "markdown",
   "id": "2097a02f",
   "metadata": {},
   "source": [
    "# Simulating Steller Orbits Around Sagittarius A\n",
    "\n",
    "Elias Taira, Nate Gu, Arian Andalib"
   ]
  },
  {
   "cell_type": "markdown",
   "id": "2bd5c711",
   "metadata": {},
   "source": [
    "## Introduction"
   ]
  },
  {
   "cell_type": "markdown",
   "id": "8ed1a66d",
   "metadata": {},
   "source": [
    "While Sagittarius A has been observed many times and have been confirmed to be the center of our galaxy since as early as the 1980's, it wasn't until the 2000s that this \"star\" was confirmed to be a black hole. Even more recently, we have been able to observe the orbits of stars very close to the black hole. Then, using Kepler's Laws to map out the orbital path of the stars, obtain an accurate reading of what the mass of this black hole is.\n",
    "\n",
    "![](./Galactic_centre_orbits.svg.png)\n",
    "\n",
    "After a careful analysis of the astronomical data, it was found that the bleck hole weighs around $3.6^{+0.2}_{-0.4}*10^6 M_\\odot$ \n",
    "\n",
    "The actual data for these orbits can be found below"
   ]
  },
  {
   "cell_type": "markdown",
   "id": "09affce8",
   "metadata": {},
   "source": [
    "## 2D Orbit Simulation"
   ]
  },
  {
   "cell_type": "code",
   "execution_count": null,
   "id": "6c180ec3",
   "metadata": {},
   "outputs": [],
   "source": []
  },
  {
   "cell_type": "markdown",
   "id": "69b2ec1a",
   "metadata": {},
   "source": [
    "## 3D Orbit Simulation"
   ]
  },
  {
   "cell_type": "code",
   "execution_count": null,
   "id": "c45087e4",
   "metadata": {},
   "outputs": [],
   "source": []
  },
  {
   "cell_type": "markdown",
   "id": "0817c7ca",
   "metadata": {},
   "source": [
    "## Conclusion"
   ]
  },
  {
   "cell_type": "code",
   "execution_count": null,
   "id": "f82e4330",
   "metadata": {},
   "outputs": [],
   "source": []
  }
 ],
 "metadata": {
  "kernelspec": {
   "display_name": "Python 3 (ipykernel)",
   "language": "python",
   "name": "python3"
  },
  "language_info": {
   "codemirror_mode": {
    "name": "ipython",
    "version": 3
   },
   "file_extension": ".py",
   "mimetype": "text/x-python",
   "name": "python",
   "nbconvert_exporter": "python",
   "pygments_lexer": "ipython3",
   "version": "3.8.11"
  }
 },
 "nbformat": 4,
 "nbformat_minor": 5
}
